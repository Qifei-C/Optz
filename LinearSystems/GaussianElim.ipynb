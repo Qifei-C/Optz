{
 "cells": [
  {
   "cell_type": "markdown",
   "id": "5b725894",
   "metadata": {},
   "source": [
    "# Gaussian Elimination"
   ]
  },
  {
   "cell_type": "markdown",
   "id": "00a0137f",
   "metadata": {},
   "source": [
    "Gaussian elimination is a method solving linear equation systems like $Ax=b$ by converting the matrix to an upper triangular matrix. If we have only equality constraints, the elimination could proceed by taking the first constraint $\\sum_j a_{1j}x_j=b_1$, rewriting this as $x_1=a_{11}^{-1}(b_1\\sum_{j=2}^n a_{1j}x_j)$, and substituting this into the other constraints.\n",
    "\n",
    "The time complexity of Partial Pivoting Gaussian Elimination is $O(N^3)$ for an $N \\times N$ matrix."
   ]
  },
  {
   "cell_type": "markdown",
   "id": "7d90a5c1",
   "metadata": {},
   "source": [
    "*The following code is edited by the original one contributed by Vikram_Shirsat from geeksforgeeks.org*"
   ]
  },
  {
   "cell_type": "code",
   "execution_count": 1,
   "id": "6115e127",
   "metadata": {},
   "outputs": [
    {
     "name": "stdout",
     "output_type": "stream",
     "text": [
      "\n",
      "Solution for the system:\n",
      "3.00000000\n",
      "1.00000000\n",
      "2.00000000\n"
     ]
    }
   ],
   "source": [
    "N = 3\n",
    "\n",
    "def gaussianElimination(matrix):\n",
    "    singular_flag = forwardElim(matrix)\n",
    "    if singular_flag != -1:\n",
    "        print(\"Singular matrix.\")\n",
    "        if matrix[singular_flag][N]:\n",
    "            print(\"Inconsistent System.\")\n",
    "        else:\n",
    "            print(\"May have infinitely many solutions.\")\n",
    "        return\n",
    "    backSub(matrix)\n",
    "\n",
    "def swap_row(matrix, i, j):\n",
    "    matrix[i], matrix[j] = matrix[j], matrix[i]\n",
    "\n",
    "def forwardElim(matrix):\n",
    "    for k in range(N):\n",
    "        i_max = k\n",
    "        v_max = abs(matrix[i_max][k])\n",
    "        for i in range(k + 1, N):\n",
    "            if abs(matrix[i][k]) > v_max:\n",
    "                v_max = abs(matrix[i][k])\n",
    "                i_max = i\n",
    "\n",
    "        if v_max == 0:\n",
    "            return k  # matrix is singular\n",
    "\n",
    "        if i_max != k:\n",
    "            swap_row(matrix, k, i_max)\n",
    "\n",
    "        for i in range(k + 1, N):\n",
    "            f = matrix[i][k] / matrix[k][k]\n",
    "            for j in range(k + 1, N + 1):\n",
    "                matrix[i][j] -= matrix[k][j] * f\n",
    "            matrix[i][k] = 0  # Make the lower matrix elements zero in column k\n",
    "    return -1\n",
    "\n",
    "def backSub(matrix):\n",
    "    x = [0] * N  # An array to store solution\n",
    "    for i in range(N-1, -1, -1):\n",
    "        if matrix[i][i] == 0:\n",
    "            print(\"Singular matrix encountered in back substitution.\")\n",
    "            return\n",
    "        x[i] = matrix[i][N]\n",
    "        for j in range(i+1, N):\n",
    "            x[i] -= matrix[i][j] * x[j]\n",
    "        x[i] = x[i] / matrix[i][i]\n",
    "\n",
    "    print(\"\\nSolution for the system:\")\n",
    "    for i in range(N):\n",
    "        print(\"{:.8f}\".formatrix(x[i]))\n",
    "\n",
    "# Driver program\n",
    "matrix = [[3.0, 2.0, -4.0, 3.0], [2.0, 3.0, 3.0, 15.0], [5.0, -3, 1.0, 14.0]]\n",
    "gaussianElimination(matrix)\n"
   ]
  },
  {
   "cell_type": "code",
   "execution_count": null,
   "id": "27e18ffa",
   "metadata": {},
   "outputs": [],
   "source": []
  }
 ],
 "metadata": {
  "kernelspec": {
   "display_name": "Python 3 (ipykernel)",
   "language": "python",
   "name": "python3"
  },
  "language_info": {
   "codemirror_mode": {
    "name": "ipython",
    "version": 3
   },
   "file_extension": ".py",
   "mimetype": "text/x-python",
   "name": "python",
   "nbconvert_exporter": "python",
   "pygments_lexer": "ipython3",
   "version": "3.11.5"
  }
 },
 "nbformat": 4,
 "nbformat_minor": 5
}
