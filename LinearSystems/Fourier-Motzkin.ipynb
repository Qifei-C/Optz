{
 "cells": [
  {
   "cell_type": "markdown",
   "id": "c0499007",
   "metadata": {},
   "source": [
    "# Fourier-Motzkin Elimination"
   ]
  },
  {
   "cell_type": "markdown",
   "id": "77714e9f",
   "metadata": {},
   "source": [
    "## Mathematical Meanings"
   ]
  },
  {
   "cell_type": "markdown",
   "id": "f28e2d42",
   "metadata": {},
   "source": [
    "In 1827, Fourier introduced a variable elimination method for linear programming questions, called Fourier-Motzkin elimination (Motzkin, 1937). Fourier-Motzkin Elimination is a way to sovle LP's with general form\n",
    "\n",
    "$$\\min c^Tx$$\n",
    "$$Ax\\geq b$$\n",
    "\n",
    "By writing it with additional variable $x_{n+1}$ and slightly modified it with the following equivalent form:\n",
    "\n",
    "$$\\min x_{n+1}$$\n",
    "$$Ax\\geq b$$\n",
    "$$c^Tx\\leq x_{n+1}$$\n",
    "\n",
    "For variable $x_1$, we arrange the constraints we have into three groups: positive coefficients $P$, negative coefficients $N$, and those which don't involve $x_1$ at all $Z$. Considering the following $i^{th}$ inequality:\n",
    "\n",
    "$$a_{i1}x_1+\\dots+a_{in}x_n\\geq b_i,\\quad i=1,\\dots,m$$\n",
    "\n",
    "where $a_{ij},b_{ij}\\in\\mathbb{R}$, $i=1,\\dots,m$ and $j=1,\\dots,n$ "
   ]
  },
  {
   "cell_type": "markdown",
   "id": "83eb8d91",
   "metadata": {},
   "source": [
    "Then consider any constraints $a_ix\\geq b_i$ for $i\\in P$, we divided out by the coeficient $a_{ik}$ of $x_k$ for each one, leaving the $x_k$ at the left side of the inequality:\n",
    "\n",
    "$$\n",
    "\\frac{a_{i1}}{a_{ik}}x_1+\\dots+x_k+\\dots+\\frac{a_{in}}{a_{ik}}x_n \\geq \\frac{b_{i}}{a_{ik}}\n",
    "$$\n",
    "\n",
    "$$\n",
    "\\Leftrightarrow x_k\\geq \\frac{b_{i}}{a_{ik}}-\\left(\\sum_{j=1,j\\neq k}^n \\frac{a_{ij}}{a_{ik}}x_j\\right)\n",
    "$$"
   ]
  },
  {
   "cell_type": "markdown",
   "id": "380cefa2",
   "metadata": {},
   "source": [
    "Notice that we could do similar operation for the constraints $a_i x\\geq b$ for $i\\in N$. However this time we need to inverse the sign due to a division of negative number.\n",
    "\n",
    "$$\n",
    "\\frac{a_{i1}}{a_{ik}}x_1+\\dots+x_k+\\dots+\\frac{a_{in}}{a_{ik}}x_n \\leq \\frac{b_{i}}{a_{ik}}\n",
    "$$\n",
    "\n",
    "$$\n",
    "\\Leftrightarrow x_k\\leq \\frac{b_{i}}{a_{ik}}-\\left(\\sum_{j=1,j\\neq k}^n \\frac{a_{ij}}{a_{ik}}x_j\\right)\n",
    "$$"
   ]
  },
  {
   "cell_type": "markdown",
   "id": "498dbd8b",
   "metadata": {},
   "source": [
    "By doing so, we introduce the following inequality\n",
    "\n",
    "$$\n",
    "\\frac{b_{i}}{a_{ik}}-\\left(\\sum_{j=1,j\\neq k}^n \\frac{a_{ij}}{a_{ik}}x_j\\right) \\leq \\frac{b_{i'}}{a_{i'k}}-\\left(\\sum_{j=1,j\\neq k}^n \\frac{a_{i'j}}{a_{i'k}}x_j\\right)\n",
    "$$\n",
    "\n",
    "where $i\\in P$ and $i'\\in N$"
   ]
  },
  {
   "cell_type": "markdown",
   "id": "8f98add7",
   "metadata": {},
   "source": [
    "Note that with these operations we introduce new linear program *LP2* eliminating $x_k$. By the **lemma 1.1**, $(x_1,x_2,\\dots,x_k)$ was feasible for *LP1* then $(x_1,x_2,\\dots,x_{k-1})$ was feasible for *LP2*, and if $(x_1,x_2,\\dots,x_{k-1})$ was feasible for *LP2* then $\\exists x_k' \\in\\mathbb{R}$ such that $(x_1,x_2,\\dots,x_k')$ was feasible for *LP1*."
   ]
  },
  {
   "cell_type": "markdown",
   "id": "5e0f7e97",
   "metadata": {},
   "source": [
    "One might notice this that we took $|P|+|N|$ constraints, and replaced them with the combination of $|P|\\cdot|N|$ constraints. So if we have $m$ constraints initially, we will have at most $\\frac{m^2}{4}$ constraints and one fewer variable for each process (where $|P|=|N|$ and $|Z|=0$). \n",
    "\n",
    "In the end, we would have at most $m^{2n}$ constraints and one single variable $x_{n+1}$ which combined to get $l$,$h$ such that $x_{n+1}\\in[l,h]$. (If $l>h$ then the *LP* is infeasible, and if there's no lower bound then the *LP* is unbounded)\n",
    "\n",
    "Callback to our initial goal of minimizing $x_{n+1}$, the optimal value of the *LP* is $x_{n+1}=l$."
   ]
  },
  {
   "cell_type": "markdown",
   "id": "ea77fee0",
   "metadata": {},
   "source": [
    "## Python Implementation"
   ]
  },
  {
   "cell_type": "code",
   "execution_count": null,
   "id": "d7d0ee35",
   "metadata": {},
   "outputs": [],
   "source": []
  }
 ],
 "metadata": {
  "kernelspec": {
   "display_name": "Python 3 (ipykernel)",
   "language": "python",
   "name": "python3"
  },
  "language_info": {
   "codemirror_mode": {
    "name": "ipython",
    "version": 3
   },
   "file_extension": ".py",
   "mimetype": "text/x-python",
   "name": "python",
   "nbconvert_exporter": "python",
   "pygments_lexer": "ipython3",
   "version": "3.11.5"
  }
 },
 "nbformat": 4,
 "nbformat_minor": 5
}
