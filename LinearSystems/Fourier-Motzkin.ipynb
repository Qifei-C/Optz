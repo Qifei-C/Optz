{
 "cells": [
  {
   "cell_type": "markdown",
   "id": "6744cceb",
   "metadata": {},
   "source": [
    "# Fourier-Motzkin Elimination"
   ]
  },
  {
   "cell_type": "markdown",
   "id": "e08e384a",
   "metadata": {},
   "source": [
    "## Mathematical Meanings"
   ]
  },
  {
   "cell_type": "markdown",
   "id": "b1266c81",
   "metadata": {},
   "source": [
    "In 1827, Fourier introduced a variable elimination method for linear programming questions, called Fourier-Motzkin elimination (Motzkin, 1937). Fourier-Motzkin Elimination is a way to sovle LP's with general form\n",
    "\n",
    "$$\\min c^Tx$$\n",
    "$$Ax\\geq b$$\n",
    "\n",
    "By writing it with additional variable $x_{n+1}$ and slightly modified it with the following equivalent form:\n",
    "\n",
    "$$\\min x_{n+1}$$\n",
    "$$Ax\\geq b$$\n",
    "$$c^Tx\\leq x_{n+1}$$\n",
    "\n",
    "For variable $x_1$, we arrange the constraints we have into three groups: positive coefficients $P$, negative coefficients $N$, and those which don't involve $x_1$ at all $Z$. Considering the following $i^{th}$ inequality:\n",
    "\n",
    "$$a_{i1}x_1+\\dots+a_{in}x_n\\geq b_i,\\quad i=1,\\dots,m$$\n",
    "\n",
    "where $a_{ij},b_{ij}\\in\\mathbb{R}$, $i=1,\\dots,m$ and $j=1,\\dots,n$ "
   ]
  },
  {
   "cell_type": "markdown",
   "id": "fc9f8ef3",
   "metadata": {},
   "source": [
    "Then consider any constraints $a_ix\\geq b_i$ for $i\\in P$, we divided out by the coeficient $a_{ik}$ of $x_k$ for each one, leaving the $x_k$ at the left side of the inequality:\n",
    "\n",
    "$$\n",
    "\\frac{a_{i1}}{a_{ik}}x_1+\\dots+x_k+\\dots+\\frac{a_{in}}{a_{ik}}x_n \\geq \\frac{b_{i}}{a_{ik}}\n",
    "$$\n",
    "\n",
    "$$\n",
    "\\Leftrightarrow x_k\\geq \\frac{b_{i}}{a_{ik}}-\\left(\\sum_{j=1,j\\neq k}^n \\frac{a_{ij}}{a_{ik}}x_j\\right)\n",
    "$$"
   ]
  },
  {
   "cell_type": "markdown",
   "id": "7ee17e1d",
   "metadata": {},
   "source": [
    "Notice that we could do similar operation for the constraints $a_i x\\geq b$ for $i\\in N$. However this time we need to inverse the sign due to a division of negative number.\n",
    "\n",
    "$$\n",
    "\\frac{a_{i1}}{a_{ik}}x_1+\\dots+x_k+\\dots+\\frac{a_{in}}{a_{ik}}x_n \\leq \\frac{b_{i}}{a_{ik}}\n",
    "$$\n",
    "\n",
    "$$\n",
    "\\Leftrightarrow x_k\\leq \\frac{b_{i}}{a_{ik}}-\\left(\\sum_{j=1,j\\neq k}^n \\frac{a_{ij}}{a_{ik}}x_j\\right)\n",
    "$$"
   ]
  },
  {
   "cell_type": "markdown",
   "id": "16e34c1b",
   "metadata": {},
   "source": [
    "By doing so, we introduce the following inequality\n",
    "\n",
    "$$\n",
    "\\frac{b_{i}}{a_{ik}}-\\left(\\sum_{j=1,j\\neq k}^n \\frac{a_{ij}}{a_{ik}}x_j\\right) \\leq \\frac{b_{i'}}{a_{i'k}}-\\left(\\sum_{j=1,j\\neq k}^n \\frac{a_{i'j}}{a_{i'k}}x_j\\right)\n",
    "$$\n",
    "\n",
    "where $i\\in P$ and $i'\\in N$"
   ]
  },
  {
   "cell_type": "markdown",
   "id": "23a67c31",
   "metadata": {},
   "source": [
    "Note that with these operations we introduce new linear program *LP2* eliminating $x_k$. By the **lemma 1.1**, $(x_1,x_2,\\dots,x_k)$ was feasible for *LP1* then $(x_1,x_2,\\dots,x_{k-1})$ was feasible for *LP2*, and if $(x_1,x_2,\\dots,x_{k-1})$ was feasible for *LP2* then $\\exists x_k' \\in\\mathbb{R}$ such that $(x_1,x_2,\\dots,x_k')$ was feasible for *LP1*."
   ]
  },
  {
   "cell_type": "markdown",
   "id": "ec4a272f",
   "metadata": {},
   "source": [
    "One might notice this that we took $|P|+|N|$ constraints, and replaced them with the combination of $|P|\\cdot|N|$ constraints. If we have $m$ constraints initially, the new system will have $(m-|P|-|N|)+|P|\\cdot|N|$ constraints. Note that we will have at most $\\frac{m^2}{4}$ constraints and one fewer variable for each process (where $|P|=|N|$ and $|Z|=0$). \n",
    "\n",
    "In the end, we would have at most $m^{2n}$ constraints and one single variable $x_{n+1}$ which combined to get $l$,$h$ such that $x_{n+1}\\in[l,h]$. (If $l>h$ then the *LP* is infeasible, and if there's no lower bound then the *LP* is unbounded)\n",
    "\n",
    "Callback to our initial goal of minimizing $x_{n+1}$, the optimal value of the *LP* is $x_{n+1}=l$."
   ]
  },
  {
   "cell_type": "markdown",
   "id": "9979633b",
   "metadata": {},
   "source": [
    "## Example"
   ]
  },
  {
   "cell_type": "markdown",
   "id": "94c8023a",
   "metadata": {},
   "source": [
    "e.g. for the following linear programming problem\n",
    "\n",
    "$$\n",
    "\\begin{alignat*}{3}\n",
    "    &\\text{maximize} &5x_1+&4x_2+&4x_3 & \\\\\n",
    "    &\\text{subject to} &2x_1+&3x_2+&x_3 &\\leq 5 \\\\\n",
    "    & &4x_1+&x_2+&2x_3 &\\leq 11 \\\\\n",
    "    & &3x_1 +&4x_2+&2x_3 &\\leq 8 \\\\\n",
    "    & & x_1,x_2,x_3&\\geq 0\n",
    "\\end{alignat*}\n",
    "$$"
   ]
  },
  {
   "cell_type": "markdown",
   "id": "a68039b3",
   "metadata": {},
   "source": [
    "By translate inequality contraints:\n",
    "\n",
    "$$\n",
    "\\begin{alignat*}{3}\n",
    "    &\\max x_4 \\\\\n",
    "    &\\text{subject to} &5x_1+&4x_2+&4x_3 -&x_4 &= 0 \\\\\n",
    "    & &2x_1+&3x_2+&x_3 +&0x_4 &\\leq 5 \\\\\n",
    "    & &4x_1+&x_2+&2x_3 +&0x_4&\\leq 11 \\\\\n",
    "    & &3x_1 +&4x_2+&2x_3 +&0x_4&\\leq 8 \\\\\n",
    "    & & x_1,x_2,x_3&\\geq 0\n",
    "\\end{alignat*}\n",
    "$$"
   ]
  },
  {
   "cell_type": "markdown",
   "id": "1f75dca3",
   "metadata": {},
   "source": [
    "Flatten the inequality we have $A^4x<b^4$:\n",
    "\n",
    "$$\n",
    "\\begin{alignat*}{5}\n",
    "&&5x_1&&+4x_2&&+4x_3&&-x_4 &&\\leq 0 \\\\\n",
    "&&-5x_1&&-4x_2&&-4x_3&&+x_4 &&\\leq 0 \\\\\n",
    "&&2x_1&&+3x_2&&+x_3 && &&\\leq 5 \\\\\n",
    "&&4x_1&&+x_2&&+2x_3 && &&\\leq 11 \\\\\n",
    "&&3x_1&&+4x_2&&+2x_3 && &&\\leq 8 \\\\ \n",
    "&&-x_1 && && && &&\\leq 0 \\\\\n",
    "&& &&-x_2 && && &&\\leq 0 \\\\\n",
    "&& && &&-x_3 && &&\\leq 0\n",
    "\\end{alignat*}\n",
    "$$"
   ]
  },
  {
   "cell_type": "markdown",
   "id": "97ecea71",
   "metadata": {},
   "source": [
    "First we want to isolate the variable $x_1$:\n",
    "\n",
    "$$\n",
    "\\begin{alignat*}{5}\n",
    "&&x_1&&+4/5x_2&&+4/5x_3&&-1/5x_4 &&\\leq 0 \\\\\n",
    "&&x_1&&+4/5x_2&&+4/5x_3&&-1/5x_4 &&\\geq 0 \\\\\n",
    "&&x_1&&+3/2x_2&&+1/2x_3 && &&\\leq 5/2 \\\\\n",
    "&&x_1&&+1/4x_2&&+1/2x_3 && &&\\leq 11/4 \\\\\n",
    "&&x_1&&+4/3x_2&&+2/3x_3 && &&\\leq 8/3 \\\\ \n",
    "&&x_1&& && && &&\\geq 0\n",
    "\\end{alignat*} \n",
    "$$\n",
    "\n",
    "$$\n",
    "\\begin{alignat*}{6}\n",
    "&&x_1&&\\leq && &&-4/5x_2&&-4/5x_3&&+1/5x_4 \\\\\n",
    "&&x_1&&\\geq && &&-4/5x_2&&-4/5x_3&&+1/5x_4 \\\\\n",
    "&&x_1&&\\leq &&5/2&&-3/2x_2&&-1/2x_3 && \\\\\n",
    "&&x_1&&\\leq &&11/4 &&-1/4x_2&&-1/2x_3 &&\\\\\n",
    "&&x_1&&\\leq &&8/3 &&-4/3x_2&&-2/3x_3 && \\\\ \n",
    "&&x_1&&\\geq &&0 && && &&\n",
    "\\end{alignat*}\n",
    "$$\n",
    "\n"
   ]
  },
  {
   "cell_type": "markdown",
   "id": "6937d4dc",
   "metadata": {},
   "source": [
    "and finally we get\n",
    "\n",
    "$$\n",
    "\\max\\{-4/5x_2-4/5x_3+1/5x_4,0\\}\\leq\\min\\{-4/5x_2-4/5x_3+1/5x_4,5/2-3/2x_2-1/2x_3,11/4 -1/4x_2-1/2x_3,8/3 -4/3x_2-2/3x_3\\}\n",
    "$$\n",
    "\n",
    "Simplified\n",
    "\n",
    "$$\n",
    "\\begin{alignat*}{5}\n",
    "&&4x_2&&+4x_3&&-x_4 &&\\leq &&0 \\\\\n",
    "&&3x_2&&+x_3 && &&\\leq &&5 \\\\\n",
    "&&x_2&&+2x_3 && &&\\leq &&11 \\\\\n",
    "&&2x_2&&+x_3 && &&\\leq &&4 \\\\\n",
    "&&7x_2&&-3x_3 && +2x_4 &&\\leq &&25 \\\\ \n",
    "&&-11x_2&&-6x_3&&+4x_4 &&\\leq &&-55 \\\\ \n",
    "&&8x_2 &&-2x_3 &&+3x_4 &&\\leq &&40 \\\\\n",
    "&&-x_2 && && &&\\leq &&0 \\\\\n",
    "&& &&-x_3 && &&\\leq &&0\n",
    "\\end{alignat*}\n",
    "$$"
   ]
  },
  {
   "cell_type": "markdown",
   "id": "7ad15a5e",
   "metadata": {},
   "source": [
    "Then we use the same operation:\n",
    "$$\n",
    "\\begin{alignat*}{5}\n",
    "&&x_2&&+x_3&&-1/4x_4 &&\\leq &&0 \\\\\n",
    "&&x_2&&+1/3x_3 && &&\\leq &&5/3 \\\\\n",
    "&&x_2&&+2x_3 && &&\\leq &&11 \\\\\n",
    "&&x_2&&+1/2x_3 && &&\\leq &&2 \\\\\n",
    "&&x_2&&-3/7x_3 && +2/7x_4 &&\\leq &&25/7 \\\\ \n",
    "&&x_2&&+6/11x_3&&-4/11x_4 &&\\geq &&5 \\\\ \n",
    "&&x_2 &&-1/4x_3 &&+3/8x_4 &&\\leq &&5 \\\\\n",
    "&&x_2 && && &&\\geq &&0 \\\\\n",
    "\\end{alignat*}\n",
    "$$\n",
    "\n",
    "$$\n",
    "\\begin{alignat*}{5}\n",
    "&&x_2 &&\\leq && &&-x_3&&+1/4x_4 \\\\\n",
    "&&x_2 &&\\leq &&5/3 &&-1/3x_3 && \\\\\n",
    "&&x_2&&\\leq &&11 &&-2x_3 && \\\\\n",
    "&&x_2 &&\\leq &&2 &&-1/2x_3 && \\\\\n",
    "&&x_2 &&\\leq &&25/7 &&+3/7x_3 && -2/7x_4\\\\ \n",
    "&&x_2 &&\\geq &&-5 &&-6/11x_3&&+4/11x_4 \\\\ \n",
    "&&x_2 &&\\leq &&5 &&+1/4x_3 &&-3/8x_4\\\\\n",
    "&&x_2 &&\\geq &&0 && && \\\\\n",
    "\\end{alignat*}\n",
    "$$"
   ]
  },
  {
   "cell_type": "markdown",
   "id": "6c18d727",
   "metadata": {},
   "source": [
    "and finally we get\n",
    "\n",
    "$$\n",
    "\\max\\{-5-6/11x_3+4/11x_4,0\\}\\leq \\\\ \\min\\{-x_3+1/4x_4,5/3-1/3x_3,11-2x_3,2-1/2x_3,25/7+3/7x_3-2/7x_4,5+1/4x_3-3/8x_4\\}\n",
    "$$\n",
    "\n"
   ]
  },
  {
   "cell_type": "markdown",
   "id": "a32e50e0",
   "metadata": {},
   "source": [
    "Simplified\n",
    "\n",
    "$$\n",
    "\\begin{alignat*}{4}\n",
    "&&-x_3 &&+8x_4 &&\\leq &&132 \\\\\n",
    "&&-7x_3 &&+12x_4 &&\\leq &&220 \\\\\n",
    "&&4x_3 &&+x_4 &&\\leq &&44 \\\\\n",
    "&&-15x_3 &&+10x_4 &&\\leq &&132 \\\\\n",
    "&&-12x_3 &&+13x_4 &&\\leq &&176 \\\\\n",
    "&&x_3 && &&\\leq &&11/2 \\\\\n",
    "&&x_3 && &&\\leq &&4 \\\\\n",
    "&&x_3 && &&\\leq &&5 \\\\\n",
    "&&3x_3 &&-2x_4 &&\\geq &&-25 \\\\\n",
    "&&x_3 && &&\\leq &&1/4x_4 \\\\\n",
    "&&2x_3 &&-3x_4 &&\\geq &&-40\n",
    "\\end{alignat*}\n",
    "$$"
   ]
  },
  {
   "cell_type": "markdown",
   "id": "1542aa85",
   "metadata": {},
   "source": [
    "Then we use the same operation:\n",
    "$$\n",
    "\\begin{alignat*}{4}\n",
    "&&x_3 &&\\geq &&-132 &&+8x_4\\\\\n",
    "&&x_3 &&\\leq &&11 &&-1/4x_4 \\\\\n",
    "&&x_3 &&\\geq &&-220/7 &&+12/7x_4 \\\\\n",
    "&&x_3  &&\\geq &&-132/15 &&+2/3x_4 \\\\\n",
    "&&x_3  &&\\geq &&-176/12 &&+13/12x_4 \\\\\n",
    "&&x_3 &&\\leq &&11/2 &&\\\\\n",
    "&&x_3 &&\\leq &&4 &&\\\\\n",
    "&&x_3 &&\\leq &&5 &&\\\\\n",
    "&&x_3 &&\\geq &&-25/3 &&+2/3x_4\\\\\n",
    "&&x_3 &&\\leq && &&1/4x_4 \\\\\n",
    "&&x_3  &&\\geq &&-20 &&+3/2x_4 \\\\\n",
    "&&x_3  &&\\geq &&0 &&\n",
    "\\end{alignat*}\n",
    "$$"
   ]
  },
  {
   "cell_type": "markdown",
   "id": "67a217b5",
   "metadata": {},
   "source": [
    "and finally we get\n",
    "\n",
    "$$\n",
    "\\max\\{-132+8x_4,-220/7+12/7x_4,-132/15+2/3x_4,-44/3+13/12x_4,-25/3+2/3x_4,-20+3/2x_4,0\\}\\leq \\\\ \\min\\{11-1/4x_4,11/2,4,5,1/4x_4\\}\n",
    "$$"
   ]
  },
  {
   "cell_type": "markdown",
   "id": "ce6b99b2",
   "metadata": {},
   "source": [
    "Simplified we finally come to the answer\n",
    "\n",
    "$$\n",
    "0 \\leq x_4 \\leq\\min\\{539/33,17,528/7,108/5,62/3,880/41,24,96/5,132/5,77/4,224/13,88/5,232/11,37/2,20,124/7,16,80,44\\}=16\n",
    "$$\n",
    "\n",
    "and\n",
    "\n",
    "$$\\max x_4=16$$"
   ]
  },
  {
   "cell_type": "markdown",
   "id": "bded2d2e",
   "metadata": {},
   "source": [
    "# Python Implementation"
   ]
  },
  {
   "cell_type": "markdown",
   "id": "66919a60",
   "metadata": {},
   "source": [
    "The subject function could be rewrite in matrix form:\n",
    "\n",
    "$$\n",
    "\\left[\\begin{matrix}5 & 4 & 4 & -1\\\\-5 & -4 & -4 & 1\\\\ 2 & 3 & 1 & 0 \\\\ 4 & 1 & 2 & 0 \\\\ 3 & 4 & 2 & 0 \\\\ -1 & 0 & 0 & 0\\\\ 0 & -1 & 0 & 0\\\\ 0 & 0 & -1 & 0\\end{matrix}\n",
    "\\right] \\left[\\begin{matrix} x_1 \\\\ x_2 \\\\ x_3 \\\\ x_4 \\end{matrix} \\right] \\leq \\left[\\begin{matrix} 0 \\\\ 0\\\\5 \\\\ 11 \\\\ 8 \\\\ 0 \\\\ 0\\\\ 0\\end{matrix} \\right]\n",
    "$$\n"
   ]
  },
  {
   "cell_type": "markdown",
   "id": "ef358e01",
   "metadata": {},
   "source": [
    "Consider the following matrix saving all informations:\n",
    "\n",
    "$$\n",
    "\\left[\\begin{matrix}0 & 5 & 4 & 4 & -1 & -1\\\\0 & -5 & -4 & -4 & 1 & -1\\\\-5 & 2 & 3 & 1 & 0 & -1\\\\-11 & 4 & 1 & 2 & 0 & -1\\\\-8 & 3 & 4 & 2 & 0 & -1\\\\0 & -1 & 0 & 0 & 0 & -1\\\\0 & 0 & -1 & 0 & 0 & -1\\\\0 & 0 & 0 & -1 & 0 & -1\\end{matrix}\n",
    "\\right]$$\n",
    "\n",
    "Where each column represent the coeficient of $c,x_1,x_2,x_3,\\dots,x_n$ and the last term corresponding to the inequality with $0$ where $-1:=LHS\\leq 0$ and $1:=LHS\\geq 0$"
   ]
  },
  {
   "cell_type": "code",
   "execution_count": 4,
   "id": "1d31d5bb",
   "metadata": {},
   "outputs": [
    {
     "name": "stdout",
     "output_type": "stream",
     "text": [
      "0.0\n",
      "16.0\n"
     ]
    }
   ],
   "source": [
    "import numpy as np\n",
    "\n",
    "original_matrix = np.array([\n",
    "    [0, 5, 4, 4, -1, -1],\n",
    "    [0, -5, -4, -4, 1, -1],\n",
    "    [-5, 2, 3, 1, 0, -1],\n",
    "    [-11, 4, 1, 2, 0, -1],\n",
    "    [-8, 3, 4, 2, 0, -1],\n",
    "    [0, -1, 0, 0, 0, -1],\n",
    "    [0, 0, -1, 0, 0, -1],\n",
    "    [0, 0, 0, -1, 0, -1]\n",
    "])\n",
    "\n",
    "matrix = original_matrix.copy()\n",
    "\n",
    "for k in range(1,matrix.shape[1]-1):\n",
    "    mask = matrix[:, k] != 0\n",
    "    subtract_matrix = matrix[mask]\n",
    "    continuing_matrix = matrix[~mask]\n",
    "    processed_matrix = np.zeros_like(subtract_matrix, dtype=float)\n",
    "\n",
    "    for i in range(subtract_matrix.shape[0]):\n",
    "        divisor = subtract_matrix[i, k]\n",
    "        for j in range(subtract_matrix.shape[1]):\n",
    "            processed_matrix[i, j] = subtract_matrix[i, j] / divisor\n",
    "\n",
    "\n",
    "    matrix2 = processed_matrix * -1\n",
    "    \n",
    "    positive_group = matrix2[matrix2[:, -1] > 0]\n",
    "    negative_group = matrix2[matrix2[:, -1] < 0]\n",
    "    if(k == original_matrix.shape[1]-1): break\n",
    "\n",
    "    new_matrix = np.zeros((positive_group.shape[0] * negative_group.shape[0], positive_group.shape[1]))\n",
    "    index = 0\n",
    "    for pos_row in positive_group:\n",
    "        for neg_row in negative_group:\n",
    "            new_matrix[index] = pos_row - neg_row\n",
    "            index += 1\n",
    "\n",
    "    final_matrix = np.vstack([new_matrix, continuing_matrix])\n",
    "    transformed_result = final_matrix.copy()  \n",
    "\n",
    "    for i in range(transformed_result.shape[0]):\n",
    "        for j in range(transformed_result.shape[1]):\n",
    "            # Check the last element in each row\n",
    "            last_element = transformed_result[i, -1]\n",
    "            if last_element < 0:\n",
    "                transformed_result[i, -1] = -1\n",
    "            elif last_element > 0:\n",
    "                transformed_result[i, -1] = 1\n",
    "\n",
    "    matrix = transformed_result\n",
    "\n",
    "print(np.max(negative_group[:,0]))\n",
    "print(np.min(positive_group[:,0]))"
   ]
  },
  {
   "cell_type": "code",
   "execution_count": null,
   "id": "e398d651",
   "metadata": {},
   "outputs": [],
   "source": []
  }
 ],
 "metadata": {
  "kernelspec": {
   "display_name": "Python 3 (ipykernel)",
   "language": "python",
   "name": "python3"
  },
  "language_info": {
   "codemirror_mode": {
    "name": "ipython",
    "version": 3
   },
   "file_extension": ".py",
   "mimetype": "text/x-python",
   "name": "python",
   "nbconvert_exporter": "python",
   "pygments_lexer": "ipython3",
   "version": "3.11.5"
  }
 },
 "nbformat": 4,
 "nbformat_minor": 5
}
