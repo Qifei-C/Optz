{
 "cells": [
  {
   "cell_type": "markdown",
   "id": "7b69e0f4",
   "metadata": {},
   "source": [
    "# Naïve Algorithm"
   ]
  },
  {
   "cell_type": "markdown",
   "id": "7440af40",
   "metadata": {},
   "source": [
    "The Naïve Algorithm is a fundamental approach to solving the maximum s-t (source-to-sink) flow problem in network flow analysis. This algorithm provides an elementary method for determining the maximum flow that can be sent from a source node $s$ to a sink node $t$ within a flow network. The process involves initially sending flow along any path from $s$ to $t$ that has available capacity. The key principle behind the Naïve Algorithm is to repeatedly find such paths and push as much flow as possible along them until no further augmenting paths exist."
   ]
  },
  {
   "cell_type": "markdown",
   "id": "27e9d56d",
   "metadata": {},
   "source": [
    "Here we use example in Figure 3.1: An input for the max s-t flow problem."
   ]
  },
  {
   "cell_type": "markdown",
   "id": "f661f3e3",
   "metadata": {},
   "source": [
    "<img src=\"maxFlowQ1.jpeg\" alt=\"\" width=\"400\"/>"
   ]
  },
  {
   "cell_type": "markdown",
   "id": "738646f1",
   "metadata": {},
   "source": [
    "We could transform this graph to a table as follows:\n",
    "\n",
    "$$\n",
    "\\begin{matrix}\n",
    "   & S & A & B & C & D & E & T \\\\\n",
    " S & 0 & 3 & 1 & 1 & 0 & 0 & 0 \\\\\n",
    " A & 0 & 0 & 1 & 0 & 1 & 0 & 0 \\\\\n",
    " B & 0 & 1 & 0 & 0 & 0 & 3 & 0 \\\\\n",
    " C & 0 & 0 & 0 & 0 & 4 & 2 & 0 \\\\\n",
    " D & 0 & 0 & 0 & 0 & 0 & 0 & 4 \\\\\n",
    " E & 0 & 0 & 0 & 4 & 0 & 0 & 1 \\\\\n",
    " T & 0 & 0 & 0 & 0 & 0 & 0 & 0 \\\\\n",
    "\\end{matrix}\n",
    "$$\n",
    "\n",
    "and hence generate a capacity matrix Q:\n",
    "\n",
    "$$\n",
    "Q=\\left[\n",
    "\\begin{matrix}\n",
    " 0 & 3 & 1 & 1 & 0 & 0 & 0 \\\\\n",
    " 0 & 0 & 1 & 0 & 1 & 0 & 0 \\\\\n",
    " 0 & 1 & 0 & 0 & 0 & 3 & 0 \\\\\n",
    " 0 & 0 & 0 & 0 & 4 & 2 & 0 \\\\\n",
    " 0 & 0 & 0 & 0 & 0 & 0 & 4 \\\\\n",
    " 0 & 0 & 0 & 4 & 0 & 0 & 1 \\\\\n",
    " 0 & 0 & 0 & 0 & 0 & 0 & 0 \\\\\n",
    "\\end{matrix}\n",
    "\\right]\n",
    "$$"
   ]
  },
  {
   "cell_type": "markdown",
   "id": "26167582",
   "metadata": {},
   "source": [
    "**Step 1:** Find a shortest path from $s$ to $t$ without considering the weight of each edge."
   ]
  },
  {
   "cell_type": "code",
   "execution_count": 10,
   "id": "54c6e45b",
   "metadata": {},
   "outputs": [],
   "source": [
    "from collections import deque\n",
    "\n",
    "def bfs_path(graph, start, goal):\n",
    "    queue = deque([(start, [start])])  # queue of (current node, path to current node)\n",
    "    visited = set()\n",
    "    visited.add(start)\n",
    "    \n",
    "    while queue:\n",
    "        current, path = queue.popleft()\n",
    "        if current == goal:\n",
    "            return path\n",
    "        for neighbor in range(len(graph[current])):\n",
    "            if graph[current][neighbor] != 0 and neighbor not in visited:\n",
    "                visited.add(neighbor)\n",
    "                queue.append((neighbor, path + [neighbor]))\n",
    "    return None  # return None if no path is found"
   ]
  },
  {
   "cell_type": "markdown",
   "id": "e7b4b9e1",
   "metadata": {},
   "source": [
    "**Step 2:** Calculates the minimum capacity along the path and then adjusts the residual of the edges accordingly."
   ]
  },
  {
   "cell_type": "code",
   "execution_count": 11,
   "id": "e2fa6560",
   "metadata": {},
   "outputs": [],
   "source": [
    "def update_residual_graph(graph, path):\n",
    "    min_capacity = float('inf')\n",
    "    for i in range(len(path) - 1):\n",
    "        start = path[i]\n",
    "        end = path[i + 1]\n",
    "        if graph[start][end] < min_capacity:\n",
    "            min_capacity = graph[start][end]\n",
    "    \n",
    "    for i in range(len(path) - 1):\n",
    "        start = path[i]\n",
    "        end = path[i + 1]\n",
    "        graph[start][end] -= min_capacity\n",
    "    return min_capacity\n"
   ]
  },
  {
   "cell_type": "markdown",
   "id": "eb86063d",
   "metadata": {},
   "source": [
    "** "
   ]
  },
  {
   "cell_type": "code",
   "execution_count": 12,
   "id": "df58481c",
   "metadata": {},
   "outputs": [
    {
     "name": "stdout",
     "output_type": "stream",
     "text": [
      "Maximum flow: 4\n",
      "Updated Residual Graph:\n",
      "[0, 1, 0, 0, 0, 0, 0]\n",
      "[0, 0, 0, 0, 0, 0, 0]\n",
      "[0, 1, 0, 0, 0, 1, 0]\n",
      "[0, 0, 0, 0, 2, 2, 0]\n",
      "[0, 0, 0, 0, 0, 0, 1]\n",
      "[0, 0, 0, 3, 0, 0, 0]\n",
      "[0, 0, 0, 0, 0, 0, 0]\n"
     ]
    }
   ],
   "source": [
    "def main():\n",
    "    # Example input matrix Q\n",
    "    Q = [[0, 3, 1, 1, 0, 0, 0],\n",
    "        [0, 0, 1, 0, 1, 0, 0],\n",
    "        [0, 1, 0, 0, 0, 3, 0],\n",
    "        [0, 0, 0, 0, 4, 2, 0],\n",
    "        [0, 0, 0, 0, 0, 0, 4],\n",
    "        [0, 0, 0, 4, 0, 0, 1],\n",
    "        [0, 0, 0, 0, 0, 0, 0]]\n",
    "\n",
    "    total_flow = 0\n",
    "    source = 0\n",
    "    sink = 6\n",
    "\n",
    "    while True:\n",
    "        path = bfs_path(Q, source, sink)\n",
    "        if path is None:\n",
    "            break\n",
    "        flow = update_residual_graph(Q, path)\n",
    "        total_flow += flow\n",
    "\n",
    "    print(\"Maximum flow:\", total_flow)\n",
    "    print(\"Updated Residual Graph:\")\n",
    "    for row in Q:\n",
    "        print(row)\n",
    "\n",
    "if __name__ == '__main__':\n",
    "    main()"
   ]
  },
  {
   "cell_type": "markdown",
   "id": "b0a46dc6",
   "metadata": {},
   "source": [
    "Although this algorithm serves as a conceptual tool for understanding the max flow problem, it is generally not efficient for large networks due to its lack of optimization mechanisms, such as those found in more advanced algorithms like the Ford-Fulkerson method or the Edmonds-Karp algorithm. Nonetheless, studying the Naïve Algorithm provides valuable insights into the basic mechanics of flow algorithms and the foundation upon which more sophisticated techniques are built."
   ]
  },
  {
   "cell_type": "markdown",
   "id": "5854de06",
   "metadata": {},
   "source": [
    "The problem can then be naturally set up as an LP by using a variable for the flow along each edge.\n",
    "\n",
    "$$\n",
    "\\begin{alignat*}{3}\n",
    "&&\\max \\sum_{v:(s,v)\\in E}f_{(s,v)}&&-\\sum_{v:(s,v)\\in E}f_{(v,s)} &&\\\\\n",
    "&& s.t.&&\\forall(u,v)\\in E && f_{(u,v)}\\geq0 \\\\\n",
    "&& &&\\forall(u,v)\\in E && f_{(u,v)}\\leq C_{(u,v)} \n",
    "\\end{alignat*}\n",
    "$$\n",
    "\n",
    "$$\n",
    "\\forall v \\neq s,t \\quad \\sum_{u:(u,v)\\in E}f_{(u,v)}=\\sum_{w:(v,w)}\\in E f_{(v,w)}\n",
    "$$"
   ]
  },
  {
   "cell_type": "code",
   "execution_count": null,
   "id": "7e9f2d8f",
   "metadata": {},
   "outputs": [],
   "source": []
  }
 ],
 "metadata": {
  "kernelspec": {
   "display_name": "Python 3 (ipykernel)",
   "language": "python",
   "name": "python3"
  },
  "language_info": {
   "codemirror_mode": {
    "name": "ipython",
    "version": 3
   },
   "file_extension": ".py",
   "mimetype": "text/x-python",
   "name": "python",
   "nbconvert_exporter": "python",
   "pygments_lexer": "ipython3",
   "version": "3.11.5"
  }
 },
 "nbformat": 4,
 "nbformat_minor": 5
}
